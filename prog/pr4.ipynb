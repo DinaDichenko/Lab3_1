{
 "cells": [
  {
   "cell_type": "markdown",
   "metadata": {},
   "source": [
    "In \\[3\\]:\n",
    "\n",
    "    %%time\n",
    "    import time\n",
    "    for i in range(50):\n",
    "        time.sleep(0.1)\n",
    "\n",
    "    Wall time: 5.35 s"
   ]
  }
 ],
 "nbformat": 4,
 "nbformat_minor": 5,
 "metadata": {}
}
