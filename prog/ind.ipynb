{
 "cells": [
  {
   "cell_type": "markdown",
   "metadata": {},
   "source": [
    "Вычислить площадь фигуры, ограниченной линиями y=-e^x, x=хх (значение xx вводится с клавиатуры) и координатными осями."
   ]
  },
  {
   "cell_type": "code",
   "execution_count": null,
   "metadata": {},
   "outputs": [],
   "source": [
    "from matplotlib import pylab as plt\n",
    "import numpy as np\n",
    "\n",
    "%matplotlib inline"
   ]
  },
  {
   "cell_type": "code",
   "execution_count": 11,
   "metadata": {},
   "outputs": [
    {
     "name": "stdout",
     "output_type": "stream",
     "text": [
      "Введите значение x прямой: 8\n",
      "Введите смещение графика относительно оси х: 2\n",
      "S= 402.93 \n"
     ]
    },
    {
     "data": {
      "image/png": "[encoded data removed]",
      "text/plain": [
       "<Figure size 432x288 with 1 Axes>"
      ]
     },
     "metadata": {
      "needs_background": "light"
     },
     "output_type": "display_data"
    }
   ],
   "source": [
    "xx = float(input(\"Введите значение x прямой: \"))\n",
    "smX = float(input(\"Введите смещение графика относительно оси х: \"))\n",
    "x = np.arange(xx * 1.2) - smX\n",
    "y = -np.power(np.exp(1), x)\n",
    "i = np.linspace(0, xx - smX, num=50)\n",
    "S = np.trapz(-np.power(np.exp(1), i), i)\n",
    "print(\"S= %.2f \" % np.fabs(S))\n",
    "\n",
    "plt.plot(x, y, c=\"g\", label=\"y=-e^x\")\n",
    "plt.fill_between(0, y, color=\"k\")\n",
    "plt.fill_between(x, 0, color=\"k\")\n",
    "plt.fill_between(xx - smX, y, color=\"c\", label=\"x=1\")\n",
    "plt.fill_between(x, y, color=\"r\", alpha=0.3)\n",
    "plt.fill_between(x, y, where=(x >= 0) & (x <= xx - smX), color=\"b\", alpha=0.5)\n",
    "plt.show()"
   ]
  }
 ],
 "metadata": {
  "kernelspec": {
   "display_name": "Python 3",
   "language": "python",
   "name": "python3"
  },
  "language_info": {
   "codemirror_mode": {
    "name": "ipython",
    "version": 3
   },
   "file_extension": ".py",
   "mimetype": "text/x-python",
   "name": "python",
   "nbconvert_exporter": "python",
   "pygments_lexer": "ipython3",
   "version": "3.8.3"
  }
 },
 "nbformat": 4,
 "nbformat_minor": 5
}
